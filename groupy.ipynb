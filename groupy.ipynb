{
 "cells": [
  {
   "cell_type": "code",
   "execution_count": 1,
   "metadata": {},
   "outputs": [],
   "source": [
    "import groupy.garray as ga"
   ]
  },
  {
   "cell_type": "code",
   "execution_count": 15,
   "metadata": {},
   "outputs": [],
   "source": [
    "import groupy.gconv as gc"
   ]
  },
  {
   "cell_type": "code",
   "execution_count": 20,
   "metadata": {},
   "outputs": [],
   "source": [
    "import groupy.gfunc as gf"
   ]
  },
  {
   "cell_type": "code",
   "execution_count": 2,
   "metadata": {},
   "outputs": [],
   "source": [
    "import numpy as np"
   ]
  },
  {
   "cell_type": "code",
   "execution_count": 21,
   "metadata": {},
   "outputs": [
    {
     "ename": "ModuleNotFoundError",
     "evalue": "No module named 'tensorflow'",
     "output_type": "error",
     "traceback": [
      "\u001b[1;31m---------------------------------------------------------------------------\u001b[0m",
      "\u001b[1;31mModuleNotFoundError\u001b[0m                       Traceback (most recent call last)",
      "Cell \u001b[1;32mIn[21], line 1\u001b[0m\n\u001b[1;32m----> 1\u001b[0m \u001b[38;5;28;01mimport\u001b[39;00m \u001b[38;5;21;01mtensorflow\u001b[39;00m \u001b[38;5;28;01mas\u001b[39;00m \u001b[38;5;21;01mtf\u001b[39;00m\n",
      "\u001b[1;31mModuleNotFoundError\u001b[0m: No module named 'tensorflow'"
     ]
    }
   ],
   "source": [
    "import tensorflow as tf\n"
   ]
  },
  {
   "cell_type": "code",
   "execution_count": null,
   "metadata": {},
   "outputs": [],
   "source": [
    "\n",
    "from groupy.gconv.tensorflow_gconv.splitgconv2d import gconv2d, gconv2d_util\n",
    "\n",
    "# Construct graph\n",
    "x = tf.placeholder(tf.float32, [None, 9, 9, 3])\n",
    "\n",
    "gconv_indices, gconv_shape_info, w_shape = gconv2d_util(\n",
    "    h_input='Z2', h_output='D4', in_channels=3, out_channels=64, ksize=3)\n",
    "w = tf.Variable(tf.truncated_normal(w_shape, stddev=1.))\n",
    "y = gconv2d(input=x, filter=w, strides=[1, 1, 1, 1], padding='SAME',\n",
    "            gconv_indices=gconv_indices, gconv_shape_info=gconv_shape_info)\n",
    "\n",
    "gconv_indices, gconv_shape_info, w_shape = gconv2d_util(\n",
    "    h_input='D4', h_output='D4', in_channels=64, out_channels=64, ksize=3)\n",
    "w = tf.Variable(tf.truncated_normal(w_shape, stddev=1.))\n",
    "y = gconv2d(input=y, filter=w, strides=[1, 1, 1, 1], padding='SAME',\n",
    "            gconv_indices=gconv_indices, gconv_shape_info=gconv_shape_info)\n",
    "\n",
    "# Compute\n",
    "init = tf.global_variables_initializer()\n",
    "sess = tf.Session()\n",
    "sess.run(init)\n",
    "y = sess.run(y, feed_dict={x: np.random.randn(10, 9, 9, 3)})\n",
    "sess.close()\n",
    "\n",
    "print y.shape  # (10, 9, 9, 512) "
   ]
  },
  {
   "cell_type": "code",
   "execution_count": 3,
   "metadata": {},
   "outputs": [],
   "source": [
    "x = np.array([0,1], dtype=np.int16)"
   ]
  },
  {
   "cell_type": "code",
   "execution_count": 4,
   "metadata": {},
   "outputs": [],
   "source": [
    "# TEST Z2 ARRAY\n",
    "\n",
    "# check_wallpaper_group function\n"
   ]
  },
  {
   "cell_type": "code",
   "execution_count": 5,
   "metadata": {},
   "outputs": [],
   "source": [
    "import groupy.garray.Z2_array as z2"
   ]
  },
  {
   "cell_type": "code",
   "execution_count": 6,
   "metadata": {},
   "outputs": [
    {
     "name": "stdout",
     "output_type": "stream",
     "text": [
      "Z2\n",
      "array([[[ 0, -1],\n",
      "        [ 0, -1]],\n",
      "\n",
      "       [[ 1,  1],\n",
      "        [-1, -1]]])\n",
      "\n",
      "Z2\n",
      "array([0, 0])\n"
     ]
    }
   ],
   "source": [
    "a = z2.rand(\n",
    "    minu=-1, maxu=2,\n",
    "    minv=-1, maxv=2,\n",
    "    size=(2, 2)\n",
    "    )\n",
    "\n",
    "e = z2.identity()\n",
    "\n",
    "print(a, e, sep=\"\\n\\n\")"
   ]
  },
  {
   "cell_type": "code",
   "execution_count": 7,
   "metadata": {},
   "outputs": [
    {
     "name": "stdout",
     "output_type": "stream",
     "text": [
      "Z2\n",
      "array([[[-1, -1],\n",
      "        [-1,  0],\n",
      "        [-1,  1]],\n",
      "\n",
      "       [[ 0, -1],\n",
      "        [ 0,  0],\n",
      "        [ 0,  1]],\n",
      "\n",
      "       [[ 1, -1],\n",
      "        [ 1,  0],\n",
      "        [ 1,  1]]])\n"
     ]
    }
   ],
   "source": [
    "mesh = z2.meshgrid()\n",
    "print(mesh)"
   ]
  },
  {
   "cell_type": "code",
   "execution_count": 8,
   "metadata": {},
   "outputs": [
    {
     "data": {
      "text/plain": [
       "(3, 3)"
      ]
     },
     "execution_count": 8,
     "metadata": {},
     "output_type": "execute_result"
    }
   ],
   "source": [
    "mesh.shape"
   ]
  },
  {
   "cell_type": "code",
   "execution_count": null,
   "metadata": {},
   "outputs": [],
   "source": []
  }
 ],
 "metadata": {
  "kernelspec": {
   "display_name": "venv",
   "language": "python",
   "name": "python3"
  },
  "language_info": {
   "codemirror_mode": {
    "name": "ipython",
    "version": 3
   },
   "file_extension": ".py",
   "mimetype": "text/x-python",
   "name": "python",
   "nbconvert_exporter": "python",
   "pygments_lexer": "ipython3",
   "version": "3.12.4"
  }
 },
 "nbformat": 4,
 "nbformat_minor": 2
}
